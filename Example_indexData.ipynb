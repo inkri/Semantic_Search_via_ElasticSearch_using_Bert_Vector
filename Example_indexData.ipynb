{
 "cells": [
  {
   "cell_type": "code",
   "execution_count": 3,
   "metadata": {},
   "outputs": [],
   "source": [
    "from elasticsearch import Elasticsearch"
   ]
  },
  {
   "cell_type": "code",
   "execution_count": 8,
   "metadata": {},
   "outputs": [
    {
     "data": {
      "text/plain": [
       "True"
      ]
     },
     "execution_count": 8,
     "metadata": {},
     "output_type": "execute_result"
    }
   ],
   "source": [
    "es = Elasticsearch(\n",
    "    \"https://localhost:9200\",\n",
    "    basic_auth=(\"elastic\",\"vfkWRFChlFKFBDPz*0y8\"),\n",
    "    ca_certs=\"C:/Users/Abhishek_Jaiswal/Downloads/elasticsearch-8.13.4/config/certs/http_ca.crt\"\n",
    ")\n",
    "es.ping()"
   ]
  },
  {
   "cell_type": "markdown",
   "metadata": {},
   "source": [
    "## Prepare the data"
   ]
  },
  {
   "cell_type": "code",
   "execution_count": 4,
   "metadata": {},
   "outputs": [
    {
     "data": {
      "text/html": [
       "<div>\n",
       "<style scoped>\n",
       "    .dataframe tbody tr th:only-of-type {\n",
       "        vertical-align: middle;\n",
       "    }\n",
       "\n",
       "    .dataframe tbody tr th {\n",
       "        vertical-align: top;\n",
       "    }\n",
       "\n",
       "    .dataframe thead th {\n",
       "        text-align: right;\n",
       "    }\n",
       "</style>\n",
       "<table border=\"1\" class=\"dataframe\">\n",
       "  <thead>\n",
       "    <tr style=\"text-align: right;\">\n",
       "      <th></th>\n",
       "      <th>ProductID</th>\n",
       "      <th>ProductName</th>\n",
       "      <th>ProductBrand</th>\n",
       "      <th>Gender</th>\n",
       "      <th>Price (INR)</th>\n",
       "      <th>NumImages</th>\n",
       "      <th>Description</th>\n",
       "      <th>PrimaryColor</th>\n",
       "    </tr>\n",
       "  </thead>\n",
       "  <tbody>\n",
       "    <tr>\n",
       "      <th>0</th>\n",
       "      <td>10017413</td>\n",
       "      <td>DKNY Unisex Black &amp; Grey Printed Medium Trolle...</td>\n",
       "      <td>DKNY</td>\n",
       "      <td>Unisex</td>\n",
       "      <td>11745</td>\n",
       "      <td>7</td>\n",
       "      <td>Black and grey printed medium trolley bag, sec...</td>\n",
       "      <td>Black</td>\n",
       "    </tr>\n",
       "    <tr>\n",
       "      <th>1</th>\n",
       "      <td>10016283</td>\n",
       "      <td>EthnoVogue Women Beige &amp; Grey Made to Measure ...</td>\n",
       "      <td>EthnoVogue</td>\n",
       "      <td>Women</td>\n",
       "      <td>5810</td>\n",
       "      <td>7</td>\n",
       "      <td>Beige &amp; Grey made to measure kurta with churid...</td>\n",
       "      <td>Beige</td>\n",
       "    </tr>\n",
       "  </tbody>\n",
       "</table>\n",
       "</div>"
      ],
      "text/plain": [
       "   ProductID                                        ProductName ProductBrand  \\\n",
       "0   10017413  DKNY Unisex Black & Grey Printed Medium Trolle...         DKNY   \n",
       "1   10016283  EthnoVogue Women Beige & Grey Made to Measure ...   EthnoVogue   \n",
       "\n",
       "   Gender  Price (INR)  NumImages  \\\n",
       "0  Unisex        11745          7   \n",
       "1   Women         5810          7   \n",
       "\n",
       "                                         Description PrimaryColor  \n",
       "0  Black and grey printed medium trolley bag, sec...        Black  \n",
       "1  Beige & Grey made to measure kurta with churid...        Beige  "
      ]
     },
     "execution_count": 4,
     "metadata": {},
     "output_type": "execute_result"
    }
   ],
   "source": [
    "import pandas as pd\n",
    "\n",
    "df = pd.read_csv(\"myntra_products_catalog.csv\").loc[:499]\n",
    "df.head(2)"
   ]
  },
  {
   "cell_type": "code",
   "execution_count": 9,
   "metadata": {},
   "outputs": [
    {
     "data": {
      "text/plain": [
       "ProductID  ProductName  ProductBrand  Gender  Price (INR)  NumImages  Description  PrimaryColor\n",
       "False      False        False         False   False        False      False        False           468\n",
       "                                                                                   True             32\n",
       "Name: count, dtype: int64"
      ]
     },
     "execution_count": 9,
     "metadata": {},
     "output_type": "execute_result"
    }
   ],
   "source": [
    "df.isna().value_counts()"
   ]
  },
  {
   "cell_type": "code",
   "execution_count": 10,
   "metadata": {},
   "outputs": [],
   "source": [
    "df.fillna(\"None\", inplace=True)"
   ]
  },
  {
   "cell_type": "markdown",
   "metadata": {},
   "source": [
    "## Convert the relevant field to Vector using BERT model"
   ]
  },
  {
   "cell_type": "code",
   "execution_count": 11,
   "metadata": {},
   "outputs": [],
   "source": [
    "from sentence_transformers import SentenceTransformer\n",
    "model = SentenceTransformer('all-mpnet-base-v2')"
   ]
  },
  {
   "cell_type": "code",
   "execution_count": 12,
   "metadata": {},
   "outputs": [],
   "source": [
    "df[\"DescriptionVector\"] = df[\"Description\"].apply(lambda x: model.encode(x))"
   ]
  },
  {
   "cell_type": "code",
   "execution_count": 13,
   "metadata": {},
   "outputs": [
    {
     "data": {
      "text/html": [
       "<div>\n",
       "<style scoped>\n",
       "    .dataframe tbody tr th:only-of-type {\n",
       "        vertical-align: middle;\n",
       "    }\n",
       "\n",
       "    .dataframe tbody tr th {\n",
       "        vertical-align: top;\n",
       "    }\n",
       "\n",
       "    .dataframe thead th {\n",
       "        text-align: right;\n",
       "    }\n",
       "</style>\n",
       "<table border=\"1\" class=\"dataframe\">\n",
       "  <thead>\n",
       "    <tr style=\"text-align: right;\">\n",
       "      <th></th>\n",
       "      <th>ProductID</th>\n",
       "      <th>ProductName</th>\n",
       "      <th>ProductBrand</th>\n",
       "      <th>Gender</th>\n",
       "      <th>Price (INR)</th>\n",
       "      <th>NumImages</th>\n",
       "      <th>Description</th>\n",
       "      <th>PrimaryColor</th>\n",
       "      <th>DescriptionVector</th>\n",
       "    </tr>\n",
       "  </thead>\n",
       "  <tbody>\n",
       "    <tr>\n",
       "      <th>0</th>\n",
       "      <td>10017413</td>\n",
       "      <td>DKNY Unisex Black &amp; Grey Printed Medium Trolle...</td>\n",
       "      <td>DKNY</td>\n",
       "      <td>Unisex</td>\n",
       "      <td>11745</td>\n",
       "      <td>7</td>\n",
       "      <td>Black and grey printed medium trolley bag, sec...</td>\n",
       "      <td>Black</td>\n",
       "      <td>[0.027645782, -0.002634167, -0.0035884539, 0.0...</td>\n",
       "    </tr>\n",
       "    <tr>\n",
       "      <th>1</th>\n",
       "      <td>10016283</td>\n",
       "      <td>EthnoVogue Women Beige &amp; Grey Made to Measure ...</td>\n",
       "      <td>EthnoVogue</td>\n",
       "      <td>Women</td>\n",
       "      <td>5810</td>\n",
       "      <td>7</td>\n",
       "      <td>Beige &amp; Grey made to measure kurta with churid...</td>\n",
       "      <td>Beige</td>\n",
       "      <td>[-0.024660744, -0.028755417, -0.02033243, 0.03...</td>\n",
       "    </tr>\n",
       "  </tbody>\n",
       "</table>\n",
       "</div>"
      ],
      "text/plain": [
       "   ProductID                                        ProductName ProductBrand  \\\n",
       "0   10017413  DKNY Unisex Black & Grey Printed Medium Trolle...         DKNY   \n",
       "1   10016283  EthnoVogue Women Beige & Grey Made to Measure ...   EthnoVogue   \n",
       "\n",
       "   Gender  Price (INR)  NumImages  \\\n",
       "0  Unisex        11745          7   \n",
       "1   Women         5810          7   \n",
       "\n",
       "                                         Description PrimaryColor  \\\n",
       "0  Black and grey printed medium trolley bag, sec...        Black   \n",
       "1  Beige & Grey made to measure kurta with churid...        Beige   \n",
       "\n",
       "                                   DescriptionVector  \n",
       "0  [0.027645782, -0.002634167, -0.0035884539, 0.0...  \n",
       "1  [-0.024660744, -0.028755417, -0.02033243, 0.03...  "
      ]
     },
     "execution_count": 13,
     "metadata": {},
     "output_type": "execute_result"
    }
   ],
   "source": [
    "df.head(2)"
   ]
  },
  {
   "cell_type": "code",
   "execution_count": 15,
   "metadata": {},
   "outputs": [
    {
     "data": {
      "text/plain": [
       "(500, 9)"
      ]
     },
     "execution_count": 15,
     "metadata": {},
     "output_type": "execute_result"
    }
   ],
   "source": [
    "df.shape"
   ]
  },
  {
   "cell_type": "code",
   "execution_count": 14,
   "metadata": {},
   "outputs": [
    {
     "data": {
      "text/plain": [
       "True"
      ]
     },
     "execution_count": 14,
     "metadata": {},
     "output_type": "execute_result"
    }
   ],
   "source": [
    "es.ping()"
   ]
  },
  {
   "cell_type": "markdown",
   "metadata": {},
   "source": [
    "## Create new index in ElasticSearch!"
   ]
  },
  {
   "cell_type": "code",
   "execution_count": 16,
   "metadata": {},
   "outputs": [],
   "source": [
    "indexMapping = {\n",
    "    \"properties\":{\n",
    "        \"ProductID\":{\n",
    "            \"type\":\"long\"\n",
    "        },\n",
    "        \"ProductName\":{\n",
    "            \"type\":\"text\"\n",
    "        },\n",
    "        \"ProductBrand\":{\n",
    "            \"type\":\"text\"\n",
    "        },\n",
    "        \"Gender\":{\n",
    "            \"type\":\"text\"\n",
    "        },\n",
    "        \"Price (INR)\":{\n",
    "            \"type\":\"long\"\n",
    "        },\n",
    "        \"NumImages\":{\n",
    "            \"type\":\"long\"\n",
    "        },\n",
    "        \"Description\":{\n",
    "            \"type\":\"text\"\n",
    "        },\n",
    "        \"PrimaryColor\":{\n",
    "            \"type\":\"text\"\n",
    "        },\n",
    "        \"DescriptionVector\":{\n",
    "            \"type\":\"dense_vector\",\n",
    "            \"dims\": 768,\n",
    "            \"index\":True,\n",
    "            \"similarity\": \"l2_norm\"\n",
    "        }\n",
    "\n",
    "    }\n",
    "}"
   ]
  },
  {
   "cell_type": "code",
   "execution_count": 17,
   "metadata": {},
   "outputs": [
    {
     "data": {
      "text/plain": [
       "ObjectApiResponse({'acknowledged': True, 'shards_acknowledged': True, 'index': 'all_products'})"
      ]
     },
     "execution_count": 17,
     "metadata": {},
     "output_type": "execute_result"
    }
   ],
   "source": [
    "from indexMapping import indexMapping\n",
    "\n",
    "es.indices.create(index=\"all_products\", mappings=indexMapping)"
   ]
  },
  {
   "cell_type": "markdown",
   "metadata": {},
   "source": [
    "## Ingest the data into index"
   ]
  },
  {
   "cell_type": "code",
   "execution_count": 18,
   "metadata": {},
   "outputs": [
    {
     "data": {
      "text/plain": [
       "{'ProductID': 10017413,\n",
       " 'ProductName': 'DKNY Unisex Black & Grey Printed Medium Trolley Bag',\n",
       " 'ProductBrand': 'DKNY',\n",
       " 'Gender': 'Unisex',\n",
       " 'Price (INR)': 11745,\n",
       " 'NumImages': 7,\n",
       " 'Description': 'Black and grey printed medium trolley bag, secured with a TSA lockOne handle on the top and one on the side, has a trolley with a retractable handle on the top and four corner mounted inline skate wheelsOne main zip compartment, zip lining, two compression straps with click clasps, one zip compartment on the flap with three zip pocketsWarranty: 5 yearsWarranty provided by Brand Owner / Manufacturer',\n",
       " 'PrimaryColor': ' Black',\n",
       " 'DescriptionVector': array([ 2.76457816e-02, -2.63416697e-03, -3.58845387e-03,  5.13587482e-02,\n",
       "         3.09660845e-02,  1.40506886e-02,  7.27059599e-03,  3.13870944e-02,\n",
       "        -6.23787642e-02, -3.82879004e-03,  3.15214284e-02,  7.55472854e-02,\n",
       "         2.12642434e-03,  4.64894436e-02,  5.07448576e-02, -1.71942525e-02,\n",
       "         1.22891665e-02, -1.95682663e-02, -9.64852944e-02,  3.52686201e-03,\n",
       "        -1.83509514e-02,  2.58225463e-02, -3.12243626e-02,  5.46113476e-02,\n",
       "         2.11240984e-02,  8.97154957e-03,  1.99166685e-02,  2.25222148e-02,\n",
       "         5.33215376e-03, -5.24597801e-02,  2.56655533e-02, -2.64644194e-02,\n",
       "         1.60459466e-02, -2.47584172e-02,  1.45433398e-06, -5.99338934e-02,\n",
       "        -4.21298072e-02, -5.82056260e-03, -1.85586959e-02, -6.88409805e-02,\n",
       "         4.52963561e-02,  7.06148474e-03,  3.00954580e-02, -7.18991235e-02,\n",
       "         2.67853346e-02, -6.78084195e-02,  1.52007211e-02,  7.82433450e-02,\n",
       "        -3.86550426e-02, -1.53426966e-02,  3.39756198e-02,  1.37782115e-02,\n",
       "        -1.47243608e-02, -2.74832384e-03,  2.31591184e-02, -4.98685129e-02,\n",
       "        -5.12833940e-03,  5.24751805e-02,  1.36131318e-02, -1.93231031e-02,\n",
       "        -2.72569433e-02,  4.11068387e-02,  4.80893180e-02, -2.70954520e-02,\n",
       "         4.11908813e-02,  4.60447557e-02, -6.37176707e-02,  1.31805008e-02,\n",
       "         1.30297744e-03,  4.09116969e-02,  6.41552731e-02, -4.79833744e-02,\n",
       "         1.10399071e-03,  7.25233778e-02, -7.42393313e-05,  2.57205404e-03,\n",
       "         2.96354797e-02,  2.96354443e-02,  1.66540295e-02,  1.16769541e-02,\n",
       "        -4.72042188e-02,  6.52726442e-02, -5.69467433e-02,  5.62868603e-02,\n",
       "         2.87739970e-02,  3.27831618e-02,  2.21507326e-02,  2.87625473e-02,\n",
       "         9.41022299e-03, -2.78681908e-02,  5.07252570e-03, -1.35145560e-02,\n",
       "         2.92993598e-02,  1.73486359e-02, -7.76378857e-03, -8.01694468e-02,\n",
       "         5.42522818e-02, -5.81911616e-02,  3.02955192e-02, -2.88304240e-02,\n",
       "         1.04824929e-02,  4.99631912e-02, -1.98193099e-02,  2.69689155e-03,\n",
       "        -5.78300795e-03,  3.49554084e-02, -1.04184514e-02, -1.53055205e-03,\n",
       "        -8.06272253e-02,  3.73889469e-02,  2.62705442e-02, -2.40432844e-02,\n",
       "        -4.65659760e-02,  3.46576944e-02, -3.50579694e-02,  2.76909657e-02,\n",
       "        -1.99476480e-02,  2.66634468e-02,  3.83039117e-02, -3.57962935e-03,\n",
       "        -1.11199142e-02, -3.43021266e-02, -5.00615351e-02, -2.43409374e-03,\n",
       "         2.01843902e-02, -4.51827981e-02, -4.48808819e-02, -4.15879972e-02,\n",
       "        -1.21018179e-02,  4.56553698e-02, -4.09716666e-02,  3.33762094e-02,\n",
       "         4.05119248e-02, -1.42122246e-02, -2.18980890e-02,  2.38487422e-02,\n",
       "        -3.59017253e-02, -3.51187587e-02, -5.59867956e-02, -2.04212312e-02,\n",
       "        -1.90287363e-03, -2.63333395e-02,  6.62033772e-03,  2.82202251e-02,\n",
       "        -3.89377698e-02, -3.85373421e-02,  3.99999507e-02,  3.73885408e-03,\n",
       "        -3.34510878e-02, -6.12203367e-02, -7.10494146e-02,  1.82614140e-02,\n",
       "         4.99361157e-02, -1.96538083e-02,  3.62080410e-02,  1.36305066e-02,\n",
       "         3.72648984e-02, -1.86512526e-02, -2.54692845e-02,  1.35053601e-02,\n",
       "         2.56374963e-02, -2.38314979e-02, -2.21330151e-02,  2.39100726e-03,\n",
       "        -5.98022342e-02, -2.13336293e-02, -9.58665833e-03, -6.31965185e-03,\n",
       "        -3.08500770e-02, -1.75865050e-02, -1.89546198e-02, -3.34730111e-02,\n",
       "        -2.12754239e-03, -3.45620606e-03, -1.71547923e-02,  7.40247518e-02,\n",
       "         3.30876349e-03, -5.94481155e-02, -4.20914218e-02, -4.85311961e-03,\n",
       "        -1.24044977e-02, -1.11631319e-01,  5.64271845e-02, -7.50043616e-03,\n",
       "        -2.17734417e-03, -8.79483763e-03, -5.20500168e-03,  2.68775714e-03,\n",
       "        -1.67977121e-02, -6.23680018e-02,  3.14838141e-02, -3.52155529e-02,\n",
       "         8.10609385e-02,  3.64167355e-02,  9.73880873e-04, -3.69658954e-02,\n",
       "         2.52884068e-03, -7.46890455e-02,  8.42563715e-03, -1.65019631e-02,\n",
       "        -7.72046223e-02, -1.85622871e-02,  5.66546340e-03, -1.47190467e-02,\n",
       "        -1.65353715e-02,  4.13801372e-02, -2.33764704e-02,  9.85995401e-03,\n",
       "        -5.00026047e-02,  4.48237080e-03,  3.75415236e-02,  2.56805047e-02,\n",
       "        -2.02899636e-03, -5.84916584e-02, -1.47917308e-02, -1.84911070e-03,\n",
       "         2.87932586e-02, -2.44093873e-02,  1.05893072e-02,  4.51088212e-02,\n",
       "         6.12144805e-02,  1.33142686e-02,  5.87450601e-02, -1.59003865e-02,\n",
       "         4.00180928e-02,  1.64473765e-02,  1.43469833e-02, -2.68045515e-02,\n",
       "         7.16699734e-02,  8.84749088e-03, -6.41264999e-03,  1.15750683e-03,\n",
       "        -3.68433706e-02,  2.93019842e-02, -3.14093605e-02, -6.79297606e-03,\n",
       "         8.94473568e-02,  5.99376634e-02, -8.24589375e-03,  2.58783065e-02,\n",
       "        -4.22716253e-02,  1.91916898e-02,  2.88815761e-04,  4.13903361e-03,\n",
       "        -5.83746172e-02,  6.08171336e-02, -3.75355631e-02, -3.70272174e-02,\n",
       "        -6.11727173e-03, -1.42939035e-02, -8.24467465e-03,  1.60582270e-03,\n",
       "         3.51404399e-02, -1.88067947e-02, -2.16341838e-02, -5.51068597e-02,\n",
       "        -5.03742602e-03,  3.81737798e-02,  2.06449125e-02,  2.99776322e-03,\n",
       "         2.01757923e-02, -8.43663700e-03,  3.04712169e-03, -2.86367652e-03,\n",
       "         5.25487326e-02,  1.00492011e-03,  5.10405153e-02,  9.56339668e-03,\n",
       "         1.99479088e-02, -3.06443516e-02, -6.84502488e-03, -1.10092452e-02,\n",
       "         1.72650311e-02, -9.95550212e-03, -1.40040666e-02, -4.78949025e-02,\n",
       "         4.48318124e-02,  2.99812458e-03, -5.05880686e-03, -1.37887103e-02,\n",
       "        -1.93421170e-02, -2.25321613e-02, -4.01583314e-02, -2.50680316e-02,\n",
       "        -1.73990261e-02,  7.81953800e-03, -4.38656732e-02,  1.10517358e-02,\n",
       "        -5.72635327e-03,  2.99920160e-02, -4.39988784e-02, -4.39051160e-04,\n",
       "        -6.25558570e-03, -3.10895108e-02,  1.94589254e-02, -2.74247993e-02,\n",
       "        -9.93125420e-03, -4.21829782e-02,  2.52597425e-02,  2.97781937e-02,\n",
       "         4.61620744e-03, -3.88785377e-02, -3.68001610e-02,  8.19744356e-03,\n",
       "        -1.57793413e-03, -3.11234477e-03,  2.27060691e-02, -3.63273621e-02,\n",
       "        -2.32267100e-02,  3.96532342e-02, -1.75962597e-02,  7.61346100e-03,\n",
       "        -4.49806266e-02, -9.71957445e-02,  6.55067619e-03, -4.07041013e-02,\n",
       "        -4.23454382e-02,  2.21425630e-02, -1.69917122e-02,  9.62368473e-02,\n",
       "        -4.27953638e-02,  2.88663227e-02,  3.25763337e-02, -1.60414483e-02,\n",
       "        -2.20179092e-02, -4.18678783e-02, -6.52636364e-02, -2.43135784e-02,\n",
       "         3.35063972e-02, -2.16999911e-02,  4.89502624e-02, -3.22210826e-02,\n",
       "         5.66819906e-02,  3.94778624e-02, -6.04452938e-02, -8.55642483e-02,\n",
       "        -4.11012806e-02, -5.89905679e-03,  4.48788591e-02,  3.86384130e-02,\n",
       "         2.37329975e-02, -3.74440849e-03, -7.40819657e-03, -3.48128229e-02,\n",
       "        -1.26407845e-02, -8.32106844e-02, -7.77608156e-03,  8.23995273e-04,\n",
       "        -2.08235513e-02,  4.96372720e-03,  1.02757188e-02,  7.34597147e-02,\n",
       "         4.56727557e-02, -1.11290412e-02, -8.89146584e-04,  3.50867249e-02,\n",
       "        -5.21485868e-04,  3.29105817e-02,  3.92489806e-02,  9.39372089e-03,\n",
       "        -3.05088330e-02,  1.42533686e-02, -1.87743455e-04,  1.48091400e-02,\n",
       "         3.88667844e-02,  2.09766626e-02,  1.69476084e-02,  6.42410517e-02,\n",
       "         1.02788946e-02,  1.05284750e-02,  4.56123538e-02,  4.24703509e-02,\n",
       "         3.24788094e-02,  3.20181102e-02, -2.87148580e-02, -7.86705222e-03,\n",
       "         9.84597486e-03,  4.08065245e-02, -1.92639530e-02, -6.10289210e-03,\n",
       "         5.00562824e-02,  1.64056178e-02,  4.35197167e-02, -1.09657990e-02,\n",
       "         3.21553759e-02, -3.21290232e-02,  4.05224413e-03, -1.42193399e-02,\n",
       "        -1.72176957e-02, -2.24059355e-02,  3.41359600e-02,  1.79261174e-02,\n",
       "        -8.28820560e-03,  5.04023544e-02, -3.55288386e-02,  2.78953444e-02,\n",
       "         2.46792915e-03, -2.67915218e-03, -3.25404592e-02,  1.17414389e-02,\n",
       "        -2.00907383e-02,  4.24936637e-02,  3.08379587e-02,  1.66972969e-02,\n",
       "         3.07388324e-02, -4.58765365e-02, -5.39882947e-03,  1.92522518e-02,\n",
       "        -2.37640701e-02, -4.52496111e-02, -3.50061879e-02, -6.26833877e-03,\n",
       "        -3.49792615e-02,  6.37186468e-02, -4.95002046e-02, -8.27831179e-02,\n",
       "         2.43392005e-03, -7.25407526e-02,  5.77692315e-02, -3.55351195e-02,\n",
       "         1.10677560e-03,  7.00686767e-04, -2.26267632e-02,  1.01695294e-02,\n",
       "         1.71284974e-02, -1.74753908e-02, -3.18569429e-02, -6.42487854e-02,\n",
       "        -3.10207102e-02, -3.18854488e-02,  3.82462479e-02,  3.10538989e-02,\n",
       "        -2.99190376e-02,  1.83082316e-02, -5.88304363e-02, -2.38676798e-02,\n",
       "         3.73598523e-02,  2.49049384e-02, -6.08942322e-02, -8.83546192e-03,\n",
       "        -4.21162695e-02, -4.55483943e-02, -1.47924870e-02, -2.38329526e-02,\n",
       "        -4.74838261e-03, -4.89295721e-02, -1.93930715e-02, -4.01563272e-02,\n",
       "        -8.04094598e-03, -7.47550428e-02,  2.10535503e-03,  1.64749920e-02,\n",
       "         8.30393732e-02,  1.55175254e-02,  4.70301993e-02, -4.48356047e-02,\n",
       "         5.50825708e-02, -7.38567710e-02, -3.09090968e-02,  1.67554449e-02,\n",
       "         5.06773517e-02,  2.49253232e-02, -7.24062100e-02,  3.98998335e-02,\n",
       "         2.13712524e-03, -1.89518929e-02, -1.86337736e-02,  1.30080329e-02,\n",
       "         1.97983962e-02, -3.67520526e-02, -4.02528867e-02, -4.21340298e-03,\n",
       "        -1.62019450e-02, -3.34680639e-03,  4.09932770e-02, -2.45060083e-02,\n",
       "        -1.03826923e-02, -4.73151542e-02,  5.08267768e-02, -5.92375826e-03,\n",
       "        -3.16204154e-04, -6.27367897e-03,  1.60507075e-02,  1.63368825e-02,\n",
       "         2.72356141e-02,  2.05410421e-02,  2.15955079e-02, -1.16071040e-02,\n",
       "         1.46542424e-02, -5.12825213e-02,  1.71000417e-02, -6.01726249e-02,\n",
       "        -1.86471548e-02, -1.95505358e-02,  5.43011576e-02,  1.48305193e-01,\n",
       "         6.39534295e-02, -4.22865152e-03,  2.49036103e-02, -5.27662858e-02,\n",
       "         8.22671037e-03,  3.78340557e-02, -6.19615428e-03, -3.93907391e-02,\n",
       "         3.58749069e-02,  1.18882516e-02,  2.66931895e-02,  1.62878986e-02,\n",
       "         6.09422550e-02, -1.60511564e-02,  3.50153452e-04,  2.91721895e-02,\n",
       "        -7.17705395e-03, -2.95378193e-02,  6.30705133e-02,  5.02149537e-02,\n",
       "        -5.33037707e-02, -9.42943338e-03,  1.98485237e-02, -2.10123397e-02,\n",
       "         3.09328176e-02, -1.42165925e-02,  3.32838334e-02,  2.94383708e-02,\n",
       "         1.26156090e-02,  4.95138988e-02,  1.15884561e-02,  2.58325040e-03,\n",
       "         4.47752886e-02,  5.12729101e-02, -2.06902139e-02, -8.23471881e-03,\n",
       "        -7.23884953e-03,  1.32842418e-02, -5.08004427e-02,  7.57653713e-02,\n",
       "        -8.74614269e-02,  4.24297862e-02,  1.12237604e-02,  9.68028617e-05,\n",
       "        -4.58215475e-02, -1.55913457e-02,  2.53331941e-02, -5.37830871e-03,\n",
       "        -3.63512139e-04,  3.69622856e-02, -4.63642627e-02, -1.23737787e-03,\n",
       "         5.76701760e-02, -7.09539950e-02,  1.54586984e-02, -6.11974560e-02,\n",
       "        -1.10918924e-01, -3.09237605e-03,  2.27635633e-02, -4.78636504e-33,\n",
       "         3.12270690e-02, -6.63603693e-02, -2.36832052e-02,  2.42751203e-02,\n",
       "        -2.04061600e-03, -4.47730301e-03,  4.22926061e-03, -4.12163977e-03,\n",
       "        -3.53075080e-02, -2.23746598e-02,  1.80853643e-02, -3.13040963e-03,\n",
       "         3.27593237e-02,  4.38897405e-03,  6.06583655e-02,  1.11367526e-02,\n",
       "         2.70507988e-02, -7.78142735e-03, -6.00762200e-03, -2.07057670e-02,\n",
       "        -3.77762355e-02, -9.80799086e-03,  4.01680917e-02,  3.02954875e-02,\n",
       "         5.43257482e-02, -9.85897407e-02, -2.94542080e-03,  2.91571617e-02,\n",
       "         3.44493724e-02, -8.56002048e-03, -7.64997005e-02,  2.66992557e-03,\n",
       "         2.50923391e-02,  3.52499560e-02,  5.67993447e-02,  2.29065232e-02,\n",
       "         5.05906083e-02, -4.30480465e-02,  3.37688290e-02,  9.36792884e-03,\n",
       "         1.14865350e-02, -5.23018688e-02, -1.63467173e-02, -1.74134485e-02,\n",
       "        -8.20697387e-05,  6.74262177e-03, -3.11617069e-02,  3.66181172e-02,\n",
       "        -3.53261493e-02,  1.54255033e-02,  6.49727136e-02,  1.90679599e-02,\n",
       "        -2.05425620e-02, -1.29935304e-02,  3.07241920e-02,  3.60370167e-02,\n",
       "        -7.30982702e-03, -3.42609920e-02,  3.69405523e-02, -1.68614369e-02,\n",
       "        -6.95913807e-02, -3.51376459e-02, -1.96794048e-02, -2.16357727e-02,\n",
       "        -1.91741418e-02, -7.22265569e-03, -9.27111227e-03,  3.80431935e-02,\n",
       "        -7.26440847e-02, -3.93157341e-02,  3.23996966e-04, -1.54595412e-02,\n",
       "        -5.66323698e-02, -2.86029242e-02, -3.38707119e-02, -8.40222929e-03,\n",
       "         3.27711590e-02, -1.23575088e-02,  5.67502379e-02,  1.07323527e-01,\n",
       "         1.62487023e-03,  1.98507383e-02, -4.92326431e-02,  4.31432808e-03,\n",
       "        -2.76763756e-02, -3.61421183e-02,  2.83704828e-02, -3.32536437e-02,\n",
       "         6.01910949e-02,  7.16085965e-03, -3.21195126e-02,  1.00305706e-01,\n",
       "         2.48313081e-02,  3.09538376e-02, -1.87182357e-03, -1.96664128e-02,\n",
       "         2.54117008e-02,  2.17062067e-02, -1.50588462e-02,  9.17001721e-03,\n",
       "         3.92968906e-03,  5.89960329e-02, -3.26567553e-02, -7.23023564e-02,\n",
       "         4.42397483e-02, -8.09969846e-03,  3.66033651e-02, -6.47041062e-03,\n",
       "        -5.15290275e-02,  5.74738458e-02,  3.27605233e-02, -3.47869284e-02,\n",
       "         1.15350785e-03, -5.10835908e-02, -2.02761008e-03, -1.37376571e-02,\n",
       "        -2.26376019e-03, -1.46535980e-02,  2.56580748e-02, -3.41949873e-02,\n",
       "         3.11359726e-02,  1.11530013e-02, -2.26283036e-02, -1.86130856e-04,\n",
       "        -3.42383385e-02, -3.47213750e-03,  7.12004723e-03,  2.85438206e-02,\n",
       "         3.43614779e-02,  4.17478420e-02,  1.46220708e-02, -1.00901714e-02,\n",
       "         2.19874821e-07,  1.26046638e-04, -3.26404423e-02,  2.73180529e-02,\n",
       "        -4.31562141e-02,  6.41155941e-03,  3.25415260e-03,  2.88383453e-03,\n",
       "         1.68630462e-02, -3.92211229e-03, -3.99216972e-02, -2.82339510e-02,\n",
       "         6.63923239e-03,  9.65188071e-03, -6.46886649e-04,  8.58047679e-02,\n",
       "        -5.46624996e-02,  9.56462026e-02, -3.35840918e-02, -3.86988632e-02,\n",
       "         1.08061153e-02,  8.10266659e-02,  4.47362196e-03,  5.54964505e-02,\n",
       "         2.06635036e-02, -1.76943243e-02, -7.89711550e-02, -9.13333707e-03,\n",
       "        -5.91489859e-02, -1.78459138e-02, -2.83569973e-02,  2.71815155e-02,\n",
       "         2.92244032e-02, -4.04384658e-02, -2.55332440e-02,  1.53779257e-02,\n",
       "         1.23813236e-02,  2.65147407e-02,  4.36860658e-02,  7.80087337e-02,\n",
       "         1.78202074e-02, -3.01126074e-02,  1.06307967e-02, -5.10762222e-02,\n",
       "        -1.62148029e-02,  2.78101433e-02,  5.96088842e-02, -1.07441638e-02,\n",
       "         5.74155115e-02, -4.65737134e-02,  4.81005479e-03,  3.75612788e-02,\n",
       "        -2.49797739e-02,  1.24980640e-02,  3.64437737e-02, -1.03774834e-02,\n",
       "         3.94603647e-02,  5.78910783e-02, -5.18749021e-02, -1.85877159e-02,\n",
       "        -3.52993654e-03, -2.97394712e-02,  4.59078923e-02,  1.81116746e-03,\n",
       "         8.85514542e-03,  5.07806540e-02,  4.10655141e-03,  5.75012295e-03,\n",
       "         1.64168646e-34, -4.68514021e-03, -6.60453225e-03,  2.19718441e-02,\n",
       "        -4.97995354e-02,  2.23752055e-02,  8.27594486e-04,  6.58981949e-02,\n",
       "        -3.05624492e-02,  8.99441540e-03, -3.16481590e-02, -3.01022772e-02],\n",
       "       dtype=float32)}"
      ]
     },
     "execution_count": 18,
     "metadata": {},
     "output_type": "execute_result"
    }
   ],
   "source": [
    "record_list = df.to_dict(\"records\")\n",
    "record_list[0]"
   ]
  },
  {
   "cell_type": "code",
   "execution_count": 19,
   "metadata": {},
   "outputs": [],
   "source": [
    "for record in record_list:\n",
    "    try:\n",
    "        es.index(index=\"all_products\", document=record, id=record[\"ProductID\"])\n",
    "    except Exception as e:\n",
    "        print(e)"
   ]
  },
  {
   "cell_type": "code",
   "execution_count": 20,
   "metadata": {},
   "outputs": [
    {
     "data": {
      "text/plain": [
       "ObjectApiResponse({'count': 500, '_shards': {'total': 1, 'successful': 1, 'skipped': 0, 'failed': 0}})"
      ]
     },
     "execution_count": 20,
     "metadata": {},
     "output_type": "execute_result"
    }
   ],
   "source": [
    "es.count(index=\"all_products\")"
   ]
  },
  {
   "cell_type": "markdown",
   "metadata": {},
   "source": [
    "## Search the data"
   ]
  },
  {
   "cell_type": "code",
   "execution_count": 21,
   "metadata": {},
   "outputs": [
    {
     "name": "stderr",
     "output_type": "stream",
     "text": [
      "C:\\Users\\Abhishek_Jaiswal\\AppData\\Local\\Temp\\ipykernel_8856\\2784084207.py:11: ElasticsearchWarning: The kNN search API has been replaced by the `knn` option in the search API.\n",
      "  res = es.knn_search(index=\"all_products\", knn=query , source=[\"ProductName\",\"Description\"])\n"
     ]
    },
    {
     "data": {
      "text/plain": [
       "[{'_index': 'all_products',\n",
       "  '_id': '10018013',\n",
       "  '_score': 0.61429423,\n",
       "  '_source': {'ProductName': 'Puma Men Blue Sneakers',\n",
       "   'Description': 'A pair of round-toe blue sneakers, has regular styling, lace-up detailTextile upperCushioned footbedTextured and patterned outsoleWarranty: 3 monthsWarranty provided by brand/manufacturer'}},\n",
       " {'_index': 'all_products',\n",
       "  '_id': '10018075',\n",
       "  '_score': 0.61429423,\n",
       "  '_source': {'ProductName': 'Puma Men Blue Sneakers',\n",
       "   'Description': 'A pair of round-toe blue sneakers, has regular styling, lace-up detailTextile upperCushioned footbedTextured and patterned outsoleWarranty: 3 monthsWarranty provided by brand/manufacturer'}}]"
      ]
     },
     "execution_count": 21,
     "metadata": {},
     "output_type": "execute_result"
    }
   ],
   "source": [
    "input_keyword = \"Blue Shoes\"\n",
    "vector_of_input_keyword = model.encode(input_keyword)\n",
    "\n",
    "query = {\n",
    "    \"field\" : \"DescriptionVector\",\n",
    "    \"query_vector\" : vector_of_input_keyword,\n",
    "    \"k\" : 2,\n",
    "    \"num_candidates\" : 500, \n",
    "}\n",
    "\n",
    "res = es.knn_search(index=\"all_products\", knn=query , source=[\"ProductName\",\"Description\"])\n",
    "res[\"hits\"][\"hits\"]"
   ]
  },
  {
   "cell_type": "code",
   "execution_count": null,
   "metadata": {},
   "outputs": [],
   "source": []
  }
 ],
 "metadata": {
  "kernelspec": {
   "display_name": "Python 3 (ipykernel)",
   "language": "python",
   "name": "python3"
  },
  "language_info": {
   "codemirror_mode": {
    "name": "ipython",
    "version": 3
   },
   "file_extension": ".py",
   "mimetype": "text/x-python",
   "name": "python",
   "nbconvert_exporter": "python",
   "pygments_lexer": "ipython3",
   "version": "3.11.4"
  }
 },
 "nbformat": 4,
 "nbformat_minor": 4
}
